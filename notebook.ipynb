{
 "cells": [
  {
   "cell_type": "markdown",
   "metadata": {},
   "source": [
    "Accessing grib data"
   ]
  },
  {
   "cell_type": "code",
   "execution_count": null,
   "metadata": {},
   "outputs": [],
   "source": [
    "import os\n",
    "from pathlib import Path\n",
    "from typing import Iterable\n",
    "from datetime import datetime\n",
    "from shutil import copyfileobj\n",
    "\n",
    "from requests import Session, HTTPError\n",
    "import pandas as pd\n"
   ]
  },
  {
   "cell_type": "code",
   "execution_count": null,
   "metadata": {},
   "outputs": [],
   "source": [
    "def google_api_hrrr_grib2_data(\n",
    "    start:datetime=datetime(2022,3,1), \n",
    "    end:datetime=datetime(2022,6,1)\n",
    "    )->Iterable[tuple[str,str]]:\n",
    "    \"\"\"\n",
    "    generate a date range on an hourly interval\n",
    "    \"\"\"\n",
    "    \n",
    "    base_url =\"https://storage.googleapis.com/high-resolution-rapid-refresh/\"\n",
    "    date_range = pd.date_range(start, end, freq=\"h\")\n",
    "\n",
    "    return zip(\n",
    "        date_range.strftime(\"%Y-%m-%dT%H:%M:%SZ\"),\n",
    "        base_url + date_range.strftime(\"hrrr.%Y%m%d/conus/hrrr.t%Hz.wrfnatf00.grib2\")\n",
    "        )"
   ]
  },
  {
   "cell_type": "code",
   "execution_count": null,
   "metadata": {},
   "outputs": [],
   "source": [
    "\n",
    "def download_and_gribs(path :Path)->list[str]:\n",
    "    \"\"\"\n",
    "    iterate over validtimes and urls and save files to a Path directory\n",
    "    returns a list of urls that failed to download\n",
    "    \"\"\"\n",
    "    failed_files = []\n",
    "    # request context manager \n",
    "    with Session() as session:\n",
    "        # iteratate over the generator function\n",
    "        for validtime, url in google_api_hrrr_grib2_data():\n",
    "            # add the filename to the path object\n",
    "            save_to = path / f\"{validtime}.grib\" \n",
    "            try:\n",
    "                # make a http get request to the url\n",
    "                res = session.get(url, stream=True)\n",
    "                # on non 200 status code raise HTTPError\n",
    "                res.raise_for_status()\n",
    "                # save the file to the directory\n",
    "                with save_to.open(\"wb\") as fileout:\n",
    "                    copyfileobj(res.raw, fileout)\n",
    "                print(\"grib2 file saved at \",save_to)\n",
    "\n",
    "            except HTTPError:\n",
    "                # on a failed http reqest append the url to the failed_files list\n",
    "                failed_files.append(url)\n",
    "                \n",
    "    return failed_files\n",
    "\n",
    "\n",
    "media_ext = Path(\n",
    "    os.getenv(\"EXTERNAL_DRIVE\",\"/media/external/hrrr/conus/\")\n",
    "    ) \n",
    "\n",
    "download_and_gribs(media_ext)"
   ]
  }
 ],
 "metadata": {
  "kernelspec": {
   "display_name": "Python 3.10.4 ('.venv')",
   "language": "python",
   "name": "python3"
  },
  "language_info": {
   "name": "python",
   "version": "3.10.4"
  },
  "orig_nbformat": 4,
  "vscode": {
   "interpreter": {
    "hash": "6cbc7a2431494cf9bfb1dcba9e6174797213774b362ef5602f45ead2c91a8db5"
   }
  }
 },
 "nbformat": 4,
 "nbformat_minor": 2
}
